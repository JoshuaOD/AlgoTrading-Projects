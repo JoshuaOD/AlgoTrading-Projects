{
 "cells": [
  {
   "cell_type": "markdown",
   "id": "3dd3fe9d",
   "metadata": {},
   "source": [
    "# Stock Market Clustering with K-Means"
   ]
  },
  {
   "cell_type": "code",
   "execution_count": 1,
   "id": "d042f8a2",
   "metadata": {},
   "outputs": [],
   "source": [
    "#import relevant packages\n",
    "import pandas as pd\n",
    "import numpy as np\n",
    "import yfinance as yf\n",
    "from sklearn.cluster import KMeans\n",
    "from pandas_datareader import data as pdr\n",
    "from datetime import datetime, timedelta\n",
    "yf.pdr_override()"
   ]
  },
  {
   "cell_type": "code",
   "execution_count": 2,
   "id": "5bb92de0",
   "metadata": {},
   "outputs": [],
   "source": [
    "#Importing S&P 500 Tickers\n",
    "sp500 = pd.read_csv('s&p500_tickers.csv')\n",
    "del sp500['Unnamed: 0']"
   ]
  },
  {
   "cell_type": "code",
   "execution_count": 3,
   "id": "733d021f",
   "metadata": {},
   "outputs": [
    {
     "name": "stdout",
     "output_type": "stream",
     "text": [
      "0       MMM\n",
      "1       AOS\n",
      "2       ABT\n",
      "3      ABBV\n",
      "4      ABMD\n",
      "       ... \n",
      "498     YUM\n",
      "499    ZBRA\n",
      "500     ZBH\n",
      "501    ZION\n",
      "502     ZTS\n",
      "Name: Tickers, Length: 503, dtype: object\n"
     ]
    }
   ],
   "source": [
    "print(sp500['Tickers'])"
   ]
  },
  {
   "cell_type": "code",
   "execution_count": 4,
   "id": "a283c88c",
   "metadata": {},
   "outputs": [],
   "source": [
    "today = datetime.today().strftime('%Y-%m-%d')"
   ]
  },
  {
   "cell_type": "code",
   "execution_count": 5,
   "id": "b6004eb5",
   "metadata": {},
   "outputs": [],
   "source": [
    "one_year = (datetime.today() - timedelta(days=365)).strftime('%Y-%m-%d')"
   ]
  },
  {
   "cell_type": "code",
   "execution_count": 6,
   "id": "78349234",
   "metadata": {},
   "outputs": [
    {
     "name": "stdout",
     "output_type": "stream",
     "text": [
      "[*********************100%***********************]  1 of 1 completed\n"
     ]
    },
    {
     "data": {
      "text/plain": [
       "Date\n",
       "2021-09-20    173.800217\n",
       "2021-09-21    171.768875\n",
       "2021-09-22    173.135925\n",
       "2021-09-23    174.762955\n",
       "2021-09-24    174.291183\n",
       "Name: Adj Close, dtype: float64"
      ]
     },
     "execution_count": 6,
     "metadata": {},
     "output_type": "execute_result"
    }
   ],
   "source": [
    "start_date = one_year \n",
    "end_date = today\n",
    "\n",
    "tickers = sp500['Tickers'][0]\n",
    "test_df = yf.download(tickers, start = start_date, end = end_date)['Adj Close']\n",
    "test_df.head()"
   ]
  },
  {
   "cell_type": "code",
   "execution_count": 8,
   "id": "aa238e0c",
   "metadata": {},
   "outputs": [
    {
     "name": "stdout",
     "output_type": "stream",
     "text": [
      "[*********************100%***********************]  1 of 1 completed\n"
     ]
    },
    {
     "data": {
      "text/plain": [
       "Date\n",
       "2021-09-20    63.382729\n",
       "2021-09-21    62.753616\n",
       "2021-09-22    62.684811\n",
       "2021-09-23    63.323746\n",
       "2021-09-24    62.969868\n",
       "Name: Adj Close, dtype: float64"
      ]
     },
     "execution_count": 8,
     "metadata": {},
     "output_type": "execute_result"
    }
   ],
   "source": [
    "tickers = sp500['Tickers'][1]\n",
    "test_df_1 = yf.download(tickers, start = start_date, end = end_date)['Adj Close']\n",
    "test_df_1.head()"
   ]
  },
  {
   "cell_type": "code",
   "execution_count": 11,
   "id": "ed9a5d4b",
   "metadata": {},
   "outputs": [],
   "source": [
    "sp500_data = pd.concat([test_df, test_df], axis=1, ignore_index=True)"
   ]
  },
  {
   "cell_type": "code",
   "execution_count": 14,
   "id": "0c78551f",
   "metadata": {},
   "outputs": [],
   "source": [
    "cols = sp500['Tickers']"
   ]
  },
  {
   "cell_type": "code",
   "execution_count": 12,
   "id": "25cfc26c",
   "metadata": {},
   "outputs": [
    {
     "data": {
      "text/html": [
       "<div>\n",
       "<style scoped>\n",
       "    .dataframe tbody tr th:only-of-type {\n",
       "        vertical-align: middle;\n",
       "    }\n",
       "\n",
       "    .dataframe tbody tr th {\n",
       "        vertical-align: top;\n",
       "    }\n",
       "\n",
       "    .dataframe thead th {\n",
       "        text-align: right;\n",
       "    }\n",
       "</style>\n",
       "<table border=\"1\" class=\"dataframe\">\n",
       "  <thead>\n",
       "    <tr style=\"text-align: right;\">\n",
       "      <th></th>\n",
       "      <th>0</th>\n",
       "      <th>1</th>\n",
       "    </tr>\n",
       "    <tr>\n",
       "      <th>Date</th>\n",
       "      <th></th>\n",
       "      <th></th>\n",
       "    </tr>\n",
       "  </thead>\n",
       "  <tbody>\n",
       "    <tr>\n",
       "      <th>2021-09-20</th>\n",
       "      <td>173.800217</td>\n",
       "      <td>173.800217</td>\n",
       "    </tr>\n",
       "    <tr>\n",
       "      <th>2021-09-21</th>\n",
       "      <td>171.768875</td>\n",
       "      <td>171.768875</td>\n",
       "    </tr>\n",
       "    <tr>\n",
       "      <th>2021-09-22</th>\n",
       "      <td>173.135925</td>\n",
       "      <td>173.135925</td>\n",
       "    </tr>\n",
       "    <tr>\n",
       "      <th>2021-09-23</th>\n",
       "      <td>174.762955</td>\n",
       "      <td>174.762955</td>\n",
       "    </tr>\n",
       "    <tr>\n",
       "      <th>2021-09-24</th>\n",
       "      <td>174.291183</td>\n",
       "      <td>174.291183</td>\n",
       "    </tr>\n",
       "    <tr>\n",
       "      <th>...</th>\n",
       "      <td>...</td>\n",
       "      <td>...</td>\n",
       "    </tr>\n",
       "    <tr>\n",
       "      <th>2022-09-12</th>\n",
       "      <td>124.250000</td>\n",
       "      <td>124.250000</td>\n",
       "    </tr>\n",
       "    <tr>\n",
       "      <th>2022-09-13</th>\n",
       "      <td>120.470001</td>\n",
       "      <td>120.470001</td>\n",
       "    </tr>\n",
       "    <tr>\n",
       "      <th>2022-09-14</th>\n",
       "      <td>117.529999</td>\n",
       "      <td>117.529999</td>\n",
       "    </tr>\n",
       "    <tr>\n",
       "      <th>2022-09-15</th>\n",
       "      <td>116.419998</td>\n",
       "      <td>116.419998</td>\n",
       "    </tr>\n",
       "    <tr>\n",
       "      <th>2022-09-16</th>\n",
       "      <td>116.610001</td>\n",
       "      <td>116.610001</td>\n",
       "    </tr>\n",
       "  </tbody>\n",
       "</table>\n",
       "<p>251 rows × 2 columns</p>\n",
       "</div>"
      ],
      "text/plain": [
       "                     0           1\n",
       "Date                              \n",
       "2021-09-20  173.800217  173.800217\n",
       "2021-09-21  171.768875  171.768875\n",
       "2021-09-22  173.135925  173.135925\n",
       "2021-09-23  174.762955  174.762955\n",
       "2021-09-24  174.291183  174.291183\n",
       "...                ...         ...\n",
       "2022-09-12  124.250000  124.250000\n",
       "2022-09-13  120.470001  120.470001\n",
       "2022-09-14  117.529999  117.529999\n",
       "2022-09-15  116.419998  116.419998\n",
       "2022-09-16  116.610001  116.610001\n",
       "\n",
       "[251 rows x 2 columns]"
      ]
     },
     "execution_count": 12,
     "metadata": {},
     "output_type": "execute_result"
    }
   ],
   "source": [
    "sp500_data"
   ]
  },
  {
   "cell_type": "code",
   "execution_count": null,
   "id": "72626d5d",
   "metadata": {},
   "outputs": [],
   "source": []
  }
 ],
 "metadata": {
  "kernelspec": {
   "display_name": "Python 3 (ipykernel)",
   "language": "python",
   "name": "python3"
  },
  "language_info": {
   "codemirror_mode": {
    "name": "ipython",
    "version": 3
   },
   "file_extension": ".py",
   "mimetype": "text/x-python",
   "name": "python",
   "nbconvert_exporter": "python",
   "pygments_lexer": "ipython3",
   "version": "3.9.7"
  }
 },
 "nbformat": 4,
 "nbformat_minor": 5
}
